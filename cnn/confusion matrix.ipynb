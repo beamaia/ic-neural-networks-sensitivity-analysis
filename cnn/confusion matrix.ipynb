{
 "cells": [
  {
   "cell_type": "code",
   "execution_count": 8,
   "metadata": {},
   "outputs": [],
   "source": [
    "import pandas as pd\n",
    "import matplotlib.pyplot as plt\n",
    "import seaborn as sn\n",
    "import numpy as np"
   ]
  },
  {
   "cell_type": "code",
   "execution_count": 2,
   "metadata": {},
   "outputs": [],
   "source": [
    "raw_data = pd.read_csv(\"results/metrics.csv\")"
   ]
  },
  {
   "cell_type": "code",
   "execution_count": 153,
   "metadata": {},
   "outputs": [],
   "source": [
    "def plot_confusion_matrix(array, cnn, optim):\n",
    "    df_cm = pd.DataFrame(array, range(2), range(2))\n",
    "    sn.set(font_scale=1.4) # for label size\n",
    "    sn.heatmap(df_cm, annot=True, annot_kws={\"size\": 16}, fmt='g') # font size\n",
    "    \n",
    "    tick_marks = np.arange(2)\n",
    "    target_names = [\"True\", \"False\"]\n",
    "    plt.xticks(tick_marks +0.5, target_names, va='center')\n",
    "    plt.yticks(tick_marks+0.5, target_names, rotation=360, va='center')\n",
    "    \n",
    "    plt.xlabel(\"True Class\")\n",
    "    plt.ylabel(\"Predicted Class\")\n",
    "    \n",
    "    plt.title(\"Confusion Matrix - \" + cnn + \" - \" + optim)\n",
    "    path = \"images/\" + cnn + \"-\" + optim + \"-\" + \"confmatrix.png\"\n",
    "    \n",
    "    plt.savefig(path, facecolor=\"w\", bbox_inches='tight')\n",
    "    plt.close()"
   ]
  },
  {
   "cell_type": "code",
   "execution_count": 149,
   "metadata": {
    "scrolled": true
   },
   "outputs": [],
   "source": [
    "results = raw_data.drop([1,2,3,8])"
   ]
  },
  {
   "cell_type": "code",
   "execution_count": 150,
   "metadata": {
    "scrolled": true
   },
   "outputs": [
    {
     "data": {
      "text/html": [
       "<div>\n",
       "<style scoped>\n",
       "    .dataframe tbody tr th:only-of-type {\n",
       "        vertical-align: middle;\n",
       "    }\n",
       "\n",
       "    .dataframe tbody tr th {\n",
       "        vertical-align: top;\n",
       "    }\n",
       "\n",
       "    .dataframe thead th {\n",
       "        text-align: right;\n",
       "    }\n",
       "</style>\n",
       "<table border=\"1\" class=\"dataframe\">\n",
       "  <thead>\n",
       "    <tr style=\"text-align: right;\">\n",
       "      <th></th>\n",
       "      <th>version</th>\n",
       "      <th>model</th>\n",
       "      <th>date</th>\n",
       "      <th>numb_epochs</th>\n",
       "      <th>accuracy</th>\n",
       "      <th>balanced_accuracy</th>\n",
       "      <th>precision</th>\n",
       "      <th>recall</th>\n",
       "      <th>tp</th>\n",
       "      <th>fp</th>\n",
       "      <th>tn</th>\n",
       "      <th>fn</th>\n",
       "      <th>f1</th>\n",
       "    </tr>\n",
       "  </thead>\n",
       "  <tbody>\n",
       "    <tr>\n",
       "      <th>0</th>\n",
       "      <td>1.0</td>\n",
       "      <td>resnet50</td>\n",
       "      <td>25-05-21</td>\n",
       "      <td>200</td>\n",
       "      <td>73.044426</td>\n",
       "      <td>71.177686</td>\n",
       "      <td>0.881163</td>\n",
       "      <td>0.747320</td>\n",
       "      <td>2091</td>\n",
       "      <td>282</td>\n",
       "      <td>589</td>\n",
       "      <td>707</td>\n",
       "      <td>0.808741</td>\n",
       "    </tr>\n",
       "    <tr>\n",
       "      <th>4</th>\n",
       "      <td>2.0</td>\n",
       "      <td>vgg16</td>\n",
       "      <td>07-06-21</td>\n",
       "      <td>200</td>\n",
       "      <td>82.174980</td>\n",
       "      <td>75.566411</td>\n",
       "      <td>0.882195</td>\n",
       "      <td>0.883145</td>\n",
       "      <td>1640</td>\n",
       "      <td>219</td>\n",
       "      <td>370</td>\n",
       "      <td>217</td>\n",
       "      <td>0.882670</td>\n",
       "    </tr>\n",
       "    <tr>\n",
       "      <th>5</th>\n",
       "      <td>3.0</td>\n",
       "      <td>vgg16</td>\n",
       "      <td>06-06-21</td>\n",
       "      <td>200</td>\n",
       "      <td>24.080131</td>\n",
       "      <td>50.000000</td>\n",
       "      <td>0.000000</td>\n",
       "      <td>0.000000</td>\n",
       "      <td>0</td>\n",
       "      <td>0</td>\n",
       "      <td>589</td>\n",
       "      <td>1857</td>\n",
       "      <td>0.000000</td>\n",
       "    </tr>\n",
       "    <tr>\n",
       "      <th>6</th>\n",
       "      <td>4.0</td>\n",
       "      <td>mobilenetv2</td>\n",
       "      <td>06-06-21</td>\n",
       "      <td>200</td>\n",
       "      <td>64.513491</td>\n",
       "      <td>72.339599</td>\n",
       "      <td>0.934916</td>\n",
       "      <td>0.572429</td>\n",
       "      <td>1063</td>\n",
       "      <td>74</td>\n",
       "      <td>515</td>\n",
       "      <td>794</td>\n",
       "      <td>0.710087</td>\n",
       "    </tr>\n",
       "    <tr>\n",
       "      <th>7</th>\n",
       "      <td>6.0</td>\n",
       "      <td>resnet50</td>\n",
       "      <td>08-06-21</td>\n",
       "      <td>200</td>\n",
       "      <td>39.738348</td>\n",
       "      <td>59.384900</td>\n",
       "      <td>0.961446</td>\n",
       "      <td>0.214863</td>\n",
       "      <td>399</td>\n",
       "      <td>16</td>\n",
       "      <td>573</td>\n",
       "      <td>1458</td>\n",
       "      <td>0.351232</td>\n",
       "    </tr>\n",
       "  </tbody>\n",
       "</table>\n",
       "</div>"
      ],
      "text/plain": [
       "   version        model      date  numb_epochs   accuracy  balanced_accuracy  \\\n",
       "0      1.0     resnet50  25-05-21          200  73.044426          71.177686   \n",
       "4      2.0        vgg16  07-06-21          200  82.174980          75.566411   \n",
       "5      3.0        vgg16  06-06-21          200  24.080131          50.000000   \n",
       "6      4.0  mobilenetv2  06-06-21          200  64.513491          72.339599   \n",
       "7      6.0     resnet50  08-06-21          200  39.738348          59.384900   \n",
       "\n",
       "   precision    recall    tp   fp   tn    fn        f1  \n",
       "0   0.881163  0.747320  2091  282  589   707  0.808741  \n",
       "4   0.882195  0.883145  1640  219  370   217  0.882670  \n",
       "5   0.000000  0.000000     0    0  589  1857  0.000000  \n",
       "6   0.934916  0.572429  1063   74  515   794  0.710087  \n",
       "7   0.961446  0.214863   399   16  573  1458  0.351232  "
      ]
     },
     "execution_count": 150,
     "metadata": {},
     "output_type": "execute_result"
    }
   ],
   "source": [
    "results"
   ]
  },
  {
   "cell_type": "code",
   "execution_count": 151,
   "metadata": {},
   "outputs": [],
   "source": [
    "optim_list = [\"Adam\", \"SGD\", \"Adam\", \"Adam\", \"SGD\"]"
   ]
  },
  {
   "cell_type": "code",
   "execution_count": 152,
   "metadata": {},
   "outputs": [],
   "source": [
    "for index, df_index in enumerate(results.index):\n",
    "    tp = results.tp[df_index]\n",
    "    fp = results.fp[df_index]\n",
    "    tn = results.tn[df_index]\n",
    "    fn = results.fn[df_index]\n",
    "    \n",
    "    array = np.array([[tp, fp], [fn, tn]])\n",
    "    \n",
    "    cnn = results.model[df_index]\n",
    "    optim = optim_list[index]\n",
    "        \n",
    "    plot_confusion_matrix(array, cnn, optim)"
   ]
  },
  {
   "cell_type": "code",
   "execution_count": null,
   "metadata": {},
   "outputs": [],
   "source": []
  }
 ],
 "metadata": {
  "kernelspec": {
   "display_name": "Python 3",
   "language": "python",
   "name": "python3"
  },
  "language_info": {
   "codemirror_mode": {
    "name": "ipython",
    "version": 3
   },
   "file_extension": ".py",
   "mimetype": "text/x-python",
   "name": "python",
   "nbconvert_exporter": "python",
   "pygments_lexer": "ipython3",
   "version": "3.8.5"
  }
 },
 "nbformat": 4,
 "nbformat_minor": 4
}
