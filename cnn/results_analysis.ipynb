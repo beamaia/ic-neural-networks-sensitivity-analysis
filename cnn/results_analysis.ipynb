{
 "cells": [
  {
   "cell_type": "code",
   "execution_count": 1,
   "metadata": {},
   "outputs": [],
   "source": [
    "import pandas as pd\n",
    "import numpy as np\n",
    "import matplotlib.pyplot"
   ]
  },
  {
   "cell_type": "code",
   "execution_count": 2,
   "metadata": {},
   "outputs": [],
   "source": [
    "raw_data = pd.read_csv(\"results/metrics.csv\")"
   ]
  },
  {
   "cell_type": "code",
   "execution_count": 4,
   "metadata": {},
   "outputs": [],
   "source": [
    "raw_data = raw_data.drop([i for i in range(12)])"
   ]
  },
  {
   "cell_type": "code",
   "execution_count": 5,
   "metadata": {},
   "outputs": [],
   "source": [
    "raw_data = raw_data.drop([15])"
   ]
  },
  {
   "cell_type": "code",
   "execution_count": 7,
   "metadata": {},
   "outputs": [],
   "source": [
    "class Metrics:\n",
    "    def __init__(self, df):\n",
    "        self.info = df.describe()\n",
    "        \n",
    "        self.avg_accuracy = self.info.accuracy[1]\n",
    "        self.std_accuracy = self.info.accuracy[2]\n",
    "        \n",
    "        self.avg_balanced_accuracy = self.info.balanced_accuracy[1]\n",
    "        self.std_balanced_accuracy = self.info.balanced_accuracy[2]\n",
    "        \n",
    "        self.avg_recall = self.info.recall[1]\n",
    "        self.std_recall = self.info.recall[2]\n",
    "        \n",
    "        self.avg_precision = self.info.precision[1]\n",
    "        self.std_precision = self.info.precision[2]\n",
    "        \n",
    "        def accuracy_info():\n",
    "            return self.avg_accuracy, self.std_accuracy\n",
    "        \n",
    "        def baccuracy_info():\n",
    "            return self.avg_balanced_accuracy, self.std_balanced_accuracy\n",
    "        \n",
    "        def recall_info():\n",
    "            return self.avg_accuracy, self.std_accuracy\n",
    "        \n",
    "        def precision_info():\n",
    "            return self.avg_precision, self.std_precision"
   ]
  },
  {
   "cell_type": "code",
   "execution_count": 8,
   "metadata": {},
   "outputs": [],
   "source": [
    "class OptimInfo:\n",
    "    def __init__(self, df, optim_name):\n",
    "        self.optim = optim_name\n",
    "        self.data = df[df.optim.str.contains(self.optim)]\n",
    "\n",
    "        self.metrics = Metrics(self.data)\n",
    "        \n",
    "        def avg_metrics():\n",
    "            return self.metrics.accuracy_info(), self.metrics.baccuracy_info(), self.metrics.recall_info(), self.metrics.precision_info()\n",
    "        \n",
    "        def accuracy_info():\n",
    "            return self.metrics.accuracy()\n",
    "    "
   ]
  },
  {
   "cell_type": "code",
   "execution_count": 9,
   "metadata": {},
   "outputs": [],
   "source": [
    "class ModelTestsInfos:\n",
    "    def __init__(self, df, model_name):\n",
    "        self.model = model_name\n",
    "        self.data = df[df.model.str.contains(self.model)]\n",
    "\n",
    "        self.sgd_optim = OptimInfo(self.data, \"SGD\")\n",
    "        self.adam_optim = OptimInfo(self.data, \"Adam\")\n",
    "        \n",
    "    def get_sgd_avg_metrics():\n",
    "        return self.sgd.avg_metrics()"
   ]
  },
  {
   "cell_type": "code",
   "execution_count": 11,
   "metadata": {},
   "outputs": [],
   "source": [
    "resnet50 = ModelTestsInfos(raw_data, \"resnet50\")\n",
    "vgg16 = ModelTestsInfos(raw_data, \"vgg16\")\n",
    "mobilenetv2 = ModelTestsInfos(raw_data, \"mobilenetv2\")\n",
    "densenet121 = ModelTestsInfos(raw_data, \"densenet121\")\n",
    "nets = [resnet50, vgg16, mobilenetv2, densenet121]"
   ]
  },
  {
   "cell_type": "code",
   "execution_count": 17,
   "metadata": {},
   "outputs": [
    {
     "name": "stdout",
     "output_type": "stream",
     "text": [
      "Using Adam Optimizer\n",
      "********************\n",
      "CNN: resnet50\n",
      "Accuracy: 75.99\n",
      "Balanced Accuracy: 77.09\n",
      "Recall: 0.74981\n",
      "Precision: 0.91997\n",
      "********************\n",
      "CNN: vgg16\n",
      "Accuracy: 58.68\n",
      "Balanced Accuracy: 50.0\n",
      "Recall: 0.66667\n",
      "Precision: 0.50691\n",
      "********************\n",
      "CNN: mobilenetv2\n",
      "Accuracy: 84.44\n",
      "Balanced Accuracy: 73.67\n",
      "Recall: 0.94345\n",
      "Precision: 0.86459\n",
      "********************\n",
      "CNN: densenet121\n",
      "Accuracy: 83.91\n",
      "Balanced Accuracy: 69.99\n",
      "Recall: 0.96723\n",
      "Precision: 0.84439\n",
      "********************\n"
     ]
    }
   ],
   "source": [
    "print(\"Using Adam Optimizer\")\n",
    "print('*'*20)\n",
    "for net in nets:\n",
    "    print(f'CNN: {net.model}')\n",
    "    print(f'Accuracy: {net.adam_optim.metrics.avg_accuracy:.4}')\n",
    "    print(f'Balanced Accuracy: {net.adam_optim.metrics.avg_balanced_accuracy:.4}')\n",
    "    print(f'Recall: {net.adam_optim.metrics.avg_recall:.5}')\n",
    "    print(f'Precision: {net.adam_optim.metrics.avg_precision:.5}')\n",
    "    print('*'*20)"
   ]
  },
  {
   "cell_type": "code",
   "execution_count": 18,
   "metadata": {},
   "outputs": [
    {
     "name": "stdout",
     "output_type": "stream",
     "text": [
      "Using SGD Optimizer\n",
      "********************\n",
      "CNN: resnet50\n",
      "Accuracy: 81.42\n",
      "Balanced Accuracy: 65.3\n",
      "Recall: 0.96255\n",
      "Precision: 0.82306\n",
      "********************\n",
      "CNN: vgg16\n",
      "Accuracy: 79.38\n",
      "Balanced Accuracy: 61.91\n",
      "Recall: 0.95468\n",
      "Precision: 0.8145\n",
      "********************\n",
      "CNN: mobilenetv2\n",
      "Accuracy: 81.22\n",
      "Balanced Accuracy: 61.73\n",
      "Recall: 0.99157\n",
      "Precision: 0.80606\n",
      "********************\n",
      "CNN: densenet121\n",
      "Accuracy: 81.02\n",
      "Balanced Accuracy: 62.35\n",
      "Recall: 0.98202\n",
      "Precision: 0.80916\n",
      "********************\n"
     ]
    }
   ],
   "source": [
    "print(\"Using SGD Optimizer\")\n",
    "print('*'*20)\n",
    "for net in nets:\n",
    "    print(f'CNN: {net.model}')\n",
    "    print(f'Accuracy: {net.sgd_optim.metrics.avg_accuracy:.4}')\n",
    "    print(f'Balanced Accuracy: {net.sgd_optim.metrics.avg_balanced_accuracy:.4}')\n",
    "    print(f'Recall: {net.sgd_optim.metrics.avg_recall:.5}')\n",
    "    print(f'Precision: {net.sgd_optim.metrics.avg_precision:.5}')\n",
    "    print('*'*20)"
   ]
  },
  {
   "cell_type": "code",
   "execution_count": null,
   "metadata": {},
   "outputs": [],
   "source": []
  },
  {
   "cell_type": "code",
   "execution_count": null,
   "metadata": {},
   "outputs": [],
   "source": [
    "def plot_sgd_adam(model):\n",
    "    "
   ]
  },
  {
   "cell_type": "code",
   "execution_count": null,
   "metadata": {},
   "outputs": [],
   "source": []
  },
  {
   "cell_type": "code",
   "execution_count": 27,
   "metadata": {},
   "outputs": [
    {
     "name": "stdout",
     "output_type": "stream",
     "text": [
      "12\n",
      "resnet50\n",
      "\n",
      "13\n",
      "resnet50\n",
      "\n",
      "14\n",
      "resnet50\n",
      "\n",
      "16\n",
      "mobilenetv2\n",
      "\n",
      "17\n",
      "mobilenetv2\n",
      "\n",
      "18\n",
      "mobilenetv2\n",
      "\n",
      "19\n",
      "vgg16\n",
      "\n",
      "20\n",
      "vgg16\n",
      "\n",
      "21\n",
      "vgg16\n",
      "\n",
      "22\n",
      "vgg16\n",
      "\n",
      "23\n",
      "vgg16\n",
      "\n",
      "24\n",
      "vgg16\n",
      "\n",
      "25\n",
      "densenet121\n",
      "\n",
      "26\n",
      "densenet121\n",
      "\n",
      "27\n",
      "densenet121\n",
      "\n",
      "28\n",
      "resnet50\n",
      "\n",
      "29\n",
      "resnet50\n",
      "\n",
      "30\n",
      "resnet50\n",
      "\n",
      "31\n",
      "mobilenetv2\n",
      "\n",
      "32\n",
      "mobilenetv2\n",
      "\n",
      "33\n",
      "mobilenetv2\n",
      "\n",
      "34\n",
      "densenet121\n",
      "\n",
      "35\n",
      "densenet121\n",
      "\n",
      "36\n",
      "densenet121\n",
      "\n"
     ]
    }
   ],
   "source": [
    "for df_index in raw_data.index:\n",
    "#     print(index)\n",
    "    print(df_index)\n",
    "    print(raw_data.model[df_index])\n",
    "    print()"
   ]
  },
  {
   "cell_type": "code",
   "execution_count": null,
   "metadata": {},
   "outputs": [],
   "source": []
  }
 ],
 "metadata": {
  "kernelspec": {
   "display_name": "Python 3",
   "language": "python",
   "name": "python3"
  },
  "language_info": {
   "codemirror_mode": {
    "name": "ipython",
    "version": 3
   },
   "file_extension": ".py",
   "mimetype": "text/x-python",
   "name": "python",
   "nbconvert_exporter": "python",
   "pygments_lexer": "ipython3",
   "version": "3.8.5"
  }
 },
 "nbformat": 4,
 "nbformat_minor": 4
}
